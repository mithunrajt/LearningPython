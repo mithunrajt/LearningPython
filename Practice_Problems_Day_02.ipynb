{
  "nbformat": 4,
  "nbformat_minor": 0,
  "metadata": {
    "colab": {
      "provenance": []
    },
    "kernelspec": {
      "name": "python3",
      "display_name": "Python 3"
    },
    "language_info": {
      "name": "python"
    }
  },
  "cells": [
    {
      "cell_type": "code",
      "execution_count": 10,
      "metadata": {
        "colab": {
          "base_uri": "https://localhost:8080/"
        },
        "id": "mYOmYDcqKpJw",
        "outputId": "b4036fb8-36ae-4be3-ab43-59c4980fe609"
      },
      "outputs": [
        {
          "output_type": "stream",
          "name": "stdout",
          "text": [
            "Sum of integers in the list =  45\n"
          ]
        }
      ],
      "source": [
        "#Write a program to find sum of all elements in a list of integers.\n",
        "n=[1,2,3,4,5,6,7,8,9]\n",
        "s= sum(n)\n",
        "print(\"Sum of integers in the list = \",s)"
      ]
    },
    {
      "cell_type": "code",
      "source": [
        "#Input a sentence as a string.\n",
        "  #a)Print its length\n",
        "  #b)Print the first half of string\n",
        "\n",
        "s= input(\"Enter a sentence: \")\n",
        "print(\"Length = \",len(s))\n",
        "First_Half= len(s)//2\n",
        "print(\"First Half od the String :\",s[:First_Half])"
      ],
      "metadata": {
        "colab": {
          "base_uri": "https://localhost:8080/"
        },
        "id": "SMwTvV6ZNFT6",
        "outputId": "9a1af154-0bdf-4707-e4c2-1bfdc866ca20"
      },
      "execution_count": 8,
      "outputs": [
        {
          "output_type": "stream",
          "name": "stdout",
          "text": [
            "Enter a sentence: I love Python\n",
            "Length =  13\n",
            "First Half od the String : I love\n"
          ]
        }
      ]
    },
    {
      "cell_type": "code",
      "source": [
        "#Write a program to enter a tuple of integers as (78,45,32,19,82,77,40,39). Change the third value in the tuple to 100\n",
        "t=(78,45,32,19,82,77,40,39)\n",
        "List = list(t)\n",
        "List[2] = 100\n",
        "T= tuple(List)\n",
        "print(\"Updated Tuple : \",T)"
      ],
      "metadata": {
        "colab": {
          "base_uri": "https://localhost:8080/"
        },
        "id": "WIWakgGCN58B",
        "outputId": "c9406c0b-db70-4bee-b4af-77602d847de3"
      },
      "execution_count": 17,
      "outputs": [
        {
          "output_type": "stream",
          "name": "stdout",
          "text": [
            "Updated Tuple :  (78, 45, 100, 19, 82, 77, 40, 39)\n"
          ]
        }
      ]
    },
    {
      "cell_type": "code",
      "source": [
        "#Consider a list listA=[19,32,10,55,31,32,94,29,10,65,77,40,40]\n",
        "#(a)Delete the first occurrence of 32\n",
        "#(b)Delete all occurrences of 40\n",
        "#(c)Delete the value at index=5\n",
        "#(d)Modify the value at index=9 as 300\n",
        "#(e)Add 200 at index=2\n",
        "#(f)Print the final list with its length, maximum value and sum of all elements\n",
        "\n",
        "listA = [19,32,10,55,31,32,94,29,10,65,77,40,40]\n",
        "listA.remove(32)\n",
        "print(\"ListA after deleting the first occurance of 32 : \",listA)\n",
        "\n",
        "listA.remove(40)\n",
        "listA.pop()\n",
        "print(\"After deleting all occurrences of 40: \", listA)\n",
        "\n",
        "\n",
        "del listA[5]\n",
        "print(\"After deleting value at index 5: \", listA )\n",
        "\n",
        "listA = [19,32,10,55,31,32,94,29,10,65,77,40,40]\n",
        "listA[9] = 300\n",
        "print(\"After modifying value at index 9 as 300: \", listA)\n",
        "\n",
        "listA.insert(2, 200)\n",
        "print(\"After adding 200 at index 2: \", listA)\n",
        "\n",
        "print(\"Final List: \", listA)\n",
        "print(\"Length of the list: \", len(listA))\n",
        "print(\"Maximum value in the list: \", max(listA))\n",
        "print(\"Sum of all elements in the list: \", sum(listA))\n"
      ],
      "metadata": {
        "colab": {
          "base_uri": "https://localhost:8080/"
        },
        "id": "rhmfaO2NQX2K",
        "outputId": "9cc43896-ab1b-46a0-e7c6-f8bfa560f591"
      },
      "execution_count": 88,
      "outputs": [
        {
          "output_type": "stream",
          "name": "stdout",
          "text": [
            "ListA after deleting the first occurance of 32 :  [19, 10, 55, 31, 32, 94, 29, 10, 65, 77, 40, 40]\n",
            "After deleting all occurrences of 40:  [19, 10, 55, 31, 32, 94, 29, 10, 65, 77]\n",
            "After deleting value at index 5:  [19, 10, 55, 31, 32, 29, 10, 65, 77]\n",
            "After modifying value at index 9 as 300:  [19, 32, 10, 55, 31, 32, 94, 29, 10, 300, 77, 40, 40]\n",
            "After adding 200 at index 2:  [19, 32, 200, 10, 55, 31, 32, 94, 29, 10, 300, 77, 40, 40]\n",
            "Final List:  [19, 32, 200, 10, 55, 31, 32, 94, 29, 10, 300, 77, 40, 40]\n",
            "Length of the list:  14\n",
            "Maximum value in the list:  300\n",
            "Sum of all elements in the list:  969\n"
          ]
        }
      ]
    },
    {
      "cell_type": "code",
      "source": [
        "#Consider a string ”The day has been long”.\n",
        "#(a)Delete the value at index =4\n",
        "#(b)Print the string 4 times in a single line with space between each repetition\n",
        "#(c)Print the string 3 times in a new line each time\n",
        "#(d)Modify the string at index 7 as ’A’\n",
        "#(e)Print the string from index 4 to 15\n",
        "#(f)Print the final string with its length\n",
        "\n",
        "\n",
        "s = \"The day has been long\"\n",
        "\n",
        "s=s[:4] + s[5:]\n",
        "print(\"After deleting value at index 4: \", s)\n",
        "\n",
        "\n",
        "print(\"String repeated 4 times: \",(s+' ') * 4)\n",
        "\n",
        "\n",
        "print(\"Print the string 3 times in a new line each time:\",(s+'\\n')*3)\n",
        "\n",
        "\n",
        "s = s[:7] + 'A' + s[8:]\n",
        "print(\"After modifying value at index 7 as 'A': \", s)\n",
        "\n",
        "\n",
        "print(\"String from index 4 to 15: \", s[4:15])\n",
        "\n",
        "print(\"Length of the string: \", len(s))"
      ],
      "metadata": {
        "colab": {
          "base_uri": "https://localhost:8080/"
        },
        "id": "-Img-fIQepzI",
        "outputId": "20a23552-ec9e-49a6-b4d3-c8a95ab19183"
      },
      "execution_count": 138,
      "outputs": [
        {
          "output_type": "stream",
          "name": "stdout",
          "text": [
            "After deleting value at index 4:  The ay has been long\n",
            "String repeated 4 times:  The ay has been long The ay has been long The ay has been long The ay has been long \n",
            "Print the string 3 times in a new line each time: The ay has been long\n",
            "The ay has been long\n",
            "The ay has been long\n",
            "\n",
            "After modifying value at index 7 as 'A':  The ay Aas been long\n",
            "String from index 4 to 15:  ay Aas been\n",
            "Length of the string:  20\n"
          ]
        }
      ]
    },
    {
      "cell_type": "code",
      "source": [],
      "metadata": {
        "id": "MEKlQax7jFKt"
      },
      "execution_count": null,
      "outputs": []
    }
  ]
}