{
  "nbformat": 4,
  "nbformat_minor": 0,
  "metadata": {
    "colab": {
      "provenance": []
    },
    "kernelspec": {
      "name": "python3",
      "display_name": "Python 3"
    },
    "language_info": {
      "name": "python"
    }
  },
  "cells": [
    {
      "cell_type": "code",
      "execution_count": 6,
      "metadata": {
        "colab": {
          "base_uri": "https://localhost:8080/"
        },
        "id": "gOx7LbB0VCnL",
        "outputId": "9bf99cb4-235b-4ab1-831b-a77fd0d655ad"
      },
      "outputs": [
        {
          "output_type": "stream",
          "name": "stdout",
          "text": [
            "The runner-up score is: 88\n"
          ]
        }
      ],
      "source": [
        "# Let's assume these are the scores\n",
        "scores = [22, 44, 66, 77, 99, 88, 11, 75, 33]\n",
        "\n",
        "# Convert the list to a set to remove duplicates\n",
        "unique_scores = set(scores)\n",
        "\n",
        "# Sort the set in descending order\n",
        "sorted_scores = sorted(unique_scores, reverse=True)\n",
        "\n",
        "# The runner-up score is the second element in the sorted set\n",
        "runner_up_score = sorted_scores[1]\n",
        "\n",
        "print(\"The runner-up score is:\", runner_up_score)\n"
      ]
    },
    {
      "cell_type": "code",
      "source": [
        "# Given dictionary\n",
        "D = {'John': [25,32,43], 'Peter': [87,55,96], 'Ram': [58,55,43], 'Meena': [63,79,85]}\n",
        "\n",
        "# Get the name from the user\n",
        "name = input(\"Enter a name: \")\n",
        "\n",
        "# Check if the name is in the dictionary\n",
        "if name in D:\n",
        "    # If the name is in the dictionary, change the corresponding values\n",
        "    D[name] = [88,77,99]\n",
        "else:\n",
        "    # If the name is not in the dictionary, print 'Name not found'\n",
        "    print('Name not found')\n",
        "\n",
        "# Print the dictionary\n",
        "print(D)\n"
      ],
      "metadata": {
        "colab": {
          "base_uri": "https://localhost:8080/"
        },
        "id": "Fji3p1piVgmF",
        "outputId": "c8eaeb27-0e61-4f65-c775-9d2e28025674"
      },
      "execution_count": 2,
      "outputs": [
        {
          "output_type": "stream",
          "name": "stdout",
          "text": [
            "Enter a name: Ram\n",
            "{'John': [25, 32, 43], 'Peter': [87, 55, 96], 'Ram': [88, 77, 99], 'Meena': [63, 79, 85]}\n"
          ]
        }
      ]
    },
    {
      "cell_type": "code",
      "source": [
        "# Ask the user to enter their age\n",
        "age = int(input(\"Enter your age: \"))\n",
        "\n",
        "# Ask the user to enter their gender\n",
        "gender = input(\"Enter your gender (male/female): \")\n",
        "\n",
        "# Initialize the ticket price\n",
        "ticket_price = 0\n",
        "\n",
        "# Use control statements (if-elif-else) to calculate the ticket price\n",
        "if age < 5 or age > 60:\n",
        "    ticket_price = 0\n",
        "elif 5 <= age <= 12:\n",
        "    ticket_price = 10\n",
        "else:\n",
        "    ticket_price = 50\n",
        "\n",
        "# If the gender is female, the ticket price is 50% of the applicable rates\n",
        "if gender.lower() == 'female':\n",
        "    ticket_price /= 2\n",
        "\n",
        "# Display the ticket price to the user\n",
        "print(\"The ticket price is: Rs.\", ticket_price)\n"
      ],
      "metadata": {
        "colab": {
          "base_uri": "https://localhost:8080/"
        },
        "id": "11kmlrgVWJQM",
        "outputId": "2dc0c759-4609-4409-e3e9-d2e06bc5e968"
      },
      "execution_count": 4,
      "outputs": [
        {
          "output_type": "stream",
          "name": "stdout",
          "text": [
            "Enter your age: 35\n",
            "Enter your gender (male/female): female\n",
            "The ticket price is: Rs. 25.0\n"
          ]
        }
      ]
    },
    {
      "cell_type": "code",
      "source": [],
      "metadata": {
        "id": "lsgCRPc-WLKL"
      },
      "execution_count": null,
      "outputs": []
    }
  ]
}