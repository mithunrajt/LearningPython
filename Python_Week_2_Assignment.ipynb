{
  "nbformat": 4,
  "nbformat_minor": 0,
  "metadata": {
    "colab": {
      "provenance": []
    },
    "kernelspec": {
      "name": "python3",
      "display_name": "Python 3"
    },
    "language_info": {
      "name": "python"
    }
  },
  "cells": [
    {
      "cell_type": "code",
      "source": [
        "# Think of a number between 1 and 10 and store it in a variable called \"secretNumber\"\n",
        "secretNumber = (1,2,3,4,5,6,7,8,9,10)\n",
        "\n",
        "while True:\n",
        "    # Ask the user to enter a number between 1 and 10 and store it in a variable called \"guess\"\n",
        "    guess = int(input(\"Enter a number between 1 and 10: \"))\n",
        "\n",
        "    # Use control statements (if-else) to check if the guess is correct, higher, or lower than the secret number\n",
        "    if guess in secretNumber:\n",
        "        # If the guess is correct, display \"Congratulations! You guessed the number correctly!\"\n",
        "        print(\"Congratulations! You guessed the number correctly!\")\n",
        "        break\n",
        "    elif guess > 10:\n",
        "        # If the guess is higher than the secret number, display \"Too high! Try again.\"\n",
        "        print(\"Too high! Try again.\")\n",
        "    else:\n",
        "        # If the guess is lower than the secret number, display \"Too low! Try again.\"\n",
        "        print(\"Too low! Try again.\")\n"
      ],
      "metadata": {
        "colab": {
          "base_uri": "https://localhost:8080/"
        },
        "id": "bm-TuKBbjlOq",
        "outputId": "65a2291c-4738-47d0-94c4-b6309976b298"
      },
      "execution_count": 30,
      "outputs": [
        {
          "output_type": "stream",
          "name": "stdout",
          "text": [
            "Enter a number between 1 and 10: 5\n",
            "Congratulations! You guessed the number correctly!\n"
          ]
        }
      ]
    },
    {
      "cell_type": "code",
      "source": [
        "def factorial(n):\n",
        "    if n == 0:\n",
        "        return 1\n",
        "    else:\n",
        "        return n * factorial(n-1)\n",
        "\n",
        "# Test the function\n",
        "print(factorial(6))\n",
        "\n",
        "# Function to check the photo\n",
        "def check_photo():\n",
        "\n",
        "  L=int(input(\"Length:\"))\n",
        "  W=int(input(\"Width:\"))\n",
        "  H=int(input(\"Height:\"))\n",
        "\n",
        "  if W < L or H < L:\n",
        "      return \"UPLOAD ANOTHER\"\n",
        "  elif W == H:\n",
        "      return \"ACCEPTED\"\n",
        "  else:\n",
        "      return \"CROP IT\"\n",
        "\n",
        "# Test the function\n",
        "print(check_photo())\n"
      ],
      "metadata": {
        "colab": {
          "base_uri": "https://localhost:8080/"
        },
        "id": "X-4UqX6MsYiY",
        "outputId": "bad073c5-254f-4b61-8bb7-a383f3043dfb"
      },
      "execution_count": 39,
      "outputs": [
        {
          "output_type": "stream",
          "name": "stdout",
          "text": [
            "720\n",
            "Length:140\n",
            "Width:180\n",
            "Height:160\n",
            "CROP IT\n"
          ]
        }
      ]
    },
    {
      "cell_type": "code",
      "source": [],
      "metadata": {
        "id": "UjLhePhG0bOs"
      },
      "execution_count": null,
      "outputs": []
    }
  ]
}